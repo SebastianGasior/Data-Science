{
  "cells": [
    {
      "cell_type": "code",
      "execution_count": 15,
      "metadata": {
        "id": "kDl__zjmQs5P"
      },
      "outputs": [],
      "source": [
        "import pandas as pd"
      ]
    },
    {
      "cell_type": "code",
      "execution_count": 16,
      "metadata": {
        "id": "psQSfEWuTwWP"
      },
      "outputs": [],
      "source": [
        "# Read data stored in 'balance.txt' into a DataFrame.\n",
        "df = pd.read_csv('balance.txt', delim_whitespace=True)"
      ]
    },
    {
      "cell_type": "markdown",
      "metadata": {
        "id": "pVFBWeYcRKuq"
      },
      "source": [
        "Notice how we can use the `mean()` function to find average values."
      ]
    },
    {
      "cell_type": "code",
      "execution_count": 21,
      "metadata": {
        "id": "Bh90TnMORM8j"
      },
      "outputs": [
        {
          "name": "stdout",
          "output_type": "stream",
          "text": [
            "The average income of a female is 44.85392753623188\n",
            "The average income of a male is 45.610316062176175\n"
          ]
        }
      ],
      "source": [
        "print(\"The average income of a female is\", df[df.Gender == \"Female\"].loc[:,\"Income\"].mean())\n",
        "print(\"The average income of a male is\",df[df.Gender == \"Male\"].loc[:,\"Income\"].mean())"
      ]
    },
    {
      "cell_type": "markdown",
      "metadata": {
        "id": "mjN8KQ34RiOB"
      },
      "source": [
        "Notice how we use the `groupby()` function below.\n",
        "Find out more about the [groupby function](https://pandas.pydata.org/pandas-docs/stable/reference/api/pandas.DataFrame.groupby.html#pandas.DataFrame.groupby) in the pandas documentation."
      ]
    },
    {
      "cell_type": "code",
      "execution_count": 18,
      "metadata": {
        "id": "gV45ZAk0RNVR"
      },
      "outputs": [
        {
          "name": "stdout",
          "output_type": "stream",
          "text": [
            "         Balance     Income        Limit      Rating     Cards        Age  \\\n",
            "Gender                                                                      \n",
            "Female  13.41401  44.853928  4756.516908  356.265700  2.927536  55.734300   \n",
            "Male    13.44544  45.610316  4713.165803  353.518135  2.989637  55.595855   \n",
            "\n",
            "        Education  \n",
            "Gender             \n",
            "Female  13.434783  \n",
            "Male    13.466321  \n"
          ]
        }
      ],
      "source": [
        "print(df.groupby(['Gender']).mean(numeric_only=True))"
      ]
    },
    {
      "cell_type": "code",
      "execution_count": 19,
      "metadata": {
        "id": "IhXtKfMASBMS"
      },
      "outputs": [
        {
          "name": "stdout",
          "output_type": "stream",
          "text": [
            "The average age of people in our dataset is 55.6675\n"
          ]
        }
      ],
      "source": [
        "print(\"The average age of people in our dataset is\", df.loc[:, \"Age\"].mean())"
      ]
    },
    {
      "cell_type": "markdown",
      "metadata": {
        "id": "uX2G6lv0SNvq"
      },
      "source": [
        "Besides finding average (mean) values we can also find other descriptive statistics such as max and min values. Find more [descriptive statistic methods](https://pandas.pydata.org/pandas-docs/stable/reference/frame.html#computations-descriptive-stats) in the pandas documentation. "
      ]
    },
    {
      "cell_type": "code",
      "execution_count": 20,
      "metadata": {
        "id": "gfHYsr66TRXb"
      },
      "outputs": [
        {
          "name": "stdout",
          "output_type": "stream",
          "text": [
            "The youngest person in our dataset is 23\n",
            "The oldest person in our dataset is 98\n"
          ]
        }
      ],
      "source": [
        "print(\"The youngest person in our dataset is\", df.loc[:, \"Age\"].min())\n",
        "print(\"The oldest person in our dataset is\", df.loc[:, \"Age\"].max())"
      ]
    }
  ],
  "metadata": {
    "colab": {
      "provenance": []
    },
    "kernelspec": {
      "display_name": "Python 3",
      "language": "python",
      "name": "python3"
    },
    "language_info": {
      "codemirror_mode": {
        "name": "ipython",
        "version": 3
      },
      "file_extension": ".py",
      "mimetype": "text/x-python",
      "name": "python",
      "nbconvert_exporter": "python",
      "pygments_lexer": "ipython3",
      "version": "3.10.8"
    },
    "vscode": {
      "interpreter": {
        "hash": "909775f4c1c1337c10dd26386ad7fdd8e68c24cfe611dcacc1a198b9e09c3e1f"
      }
    }
  },
  "nbformat": 4,
  "nbformat_minor": 0
}
